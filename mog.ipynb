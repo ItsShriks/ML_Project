{
 "cells": [
  {
   "cell_type": "code",
   "execution_count": 1,
   "metadata": {},
   "outputs": [
    {
     "data": {
      "application/vnd.jupyter.widget-view+json": {
       "model_id": "9ff795e331f0490f9be68c285dcf1fae",
       "version_major": 2,
       "version_minor": 0
      },
      "text/plain": [
       "Widget(value='<iframe src=\"http://localhost:36239/index.html?ui=P_0x78173f6a2de0_0&reconnect=auto\" class=\"pyvi…"
      ]
     },
     "metadata": {},
     "output_type": "display_data"
    },
    {
     "data": {
      "application/vnd.jupyter.widget-view+json": {
       "model_id": "28f1af1c13da44c89e13c57825403ffd",
       "version_major": 2,
       "version_minor": 0
      },
      "text/plain": [
       "Widget(value='<iframe src=\"http://localhost:36239/index.html?ui=P_0x78173b8cd5b0_1&reconnect=auto\" class=\"pyvi…"
      ]
     },
     "metadata": {},
     "output_type": "display_data"
    },
    {
     "data": {
      "application/vnd.jupyter.widget-view+json": {
       "model_id": "1a04bf6a86a44f45898465df22235127",
       "version_major": 2,
       "version_minor": 0
      },
      "text/plain": [
       "Widget(value='<iframe src=\"http://localhost:36239/index.html?ui=P_0x781742d9b500_2&reconnect=auto\" class=\"pyvi…"
      ]
     },
     "metadata": {},
     "output_type": "display_data"
    },
    {
     "name": "stdout",
     "output_type": "stream",
     "text": [
      " JS Error => error: Uncaught TypeError: Cannot mix BigInt and other types, use explicit conversions\n",
      " JS Error => error: Uncaught TypeError: Cannot mix BigInt and other types, use explicit conversions\n",
      " JS Error => error: Uncaught TypeError: Cannot mix BigInt and other types, use explicit conversions\n",
      " JS Error => error: Uncaught TypeError: Cannot mix BigInt and other types, use explicit conversions\n",
      " JS Error => error: Uncaught TypeError: Cannot mix BigInt and other types, use explicit conversions\n"
     ]
    }
   ],
   "source": [
    "import numpy as np\n",
    "import pyvista as pv\n",
    "from sklearn.decomposition import PCA\n",
    "from sklearn.mixture import GaussianMixture\n",
    "from scipy.spatial import ConvexHull\n",
    "\n",
    "# Load and visualize a .obj file\n",
    "def load_and_display_obj(file_path):\n",
    "    # Read the .obj file\n",
    "    mesh = pv.read(file_path)\n",
    "    \n",
    "    # Display the 3D object\n",
    "    plotter = pv.Plotter()\n",
    "    plotter.add_mesh(mesh, color='white', show_edges=True)\n",
    "    plotter.show()\n",
    "    \n",
    "    return mesh\n",
    "\n",
    "# Reduce dimensions or filter relevant points using PCA\n",
    "def reduce_dimensions(mesh, n_components=3):\n",
    "    points = mesh.points  # Get the 3D points of the mesh\n",
    "    pca = PCA(n_components=n_components)\n",
    "    reduced_points = pca.fit_transform(points)\n",
    "    \n",
    "    # Visualize reduced data\n",
    "    cloud = pv.PolyData(reduced_points)\n",
    "    cloud.plot(render_points_as_spheres=True, point_size=5)\n",
    "    \n",
    "    return reduced_points, pca\n",
    "\n",
    "# Filter by retaining only convex hull points\n",
    "def filter_convex_hull(points):\n",
    "    hull = ConvexHull(points)\n",
    "    hull_points = points[hull.vertices]\n",
    "    return hull_points\n",
    "\n",
    "# Mixture of Gaussian (MoG) for primitive detection\n",
    "def fit_mixture_of_gaussians(points, n_components=4):\n",
    "    gmm = GaussianMixture(n_components=n_components, random_state=42)\n",
    "    gmm.fit(points)\n",
    "    labels = gmm.predict(points)\n",
    "    \n",
    "    return labels, gmm\n",
    "\n",
    "# Visualize the results of GMM clustering\n",
    "def visualize_clusters(points, labels):\n",
    "    cloud = pv.PolyData(points)\n",
    "    cloud[\"Cluster\"] = labels\n",
    "    cloud.plot(render_points_as_spheres=True, point_size=5)\n",
    "\n",
    "# Main function to integrate all steps\n",
    "def main():\n",
    "    # Path to the .obj file\n",
    "    obj_file_path = \"/home/ritz/Desktop/SEM 3/ML/Project/bottle.obj\"  # Replace with your file path\n",
    "    \n",
    "    # Step 1: Load and display the .obj file\n",
    "    mesh = load_and_display_obj(obj_file_path)\n",
    "    \n",
    "    # Step 2: Reduce dimensions or filter relevant points\n",
    "    reduced_points, _ = reduce_dimensions(mesh)\n",
    "    filtered_points = filter_convex_hull(reduced_points)\n",
    "    \n",
    "    # Step 3: Fit Gaussian Mixture Model\n",
    "    labels, gmm = fit_mixture_of_gaussians(filtered_points, n_components=4)\n",
    "    \n",
    "    # Visualize the clusters\n",
    "    visualize_clusters(filtered_points, labels)\n",
    "\n",
    "if __name__ == \"__main__\":\n",
    "    main()\n"
   ]
  },
  {
   "cell_type": "code",
   "execution_count": 3,
   "metadata": {},
   "outputs": [
    {
     "name": "stdout",
     "output_type": "stream",
     "text": [
      "Jupyter environment detected. Enabling Open3D WebVisualizer.\n",
      "[Open3D INFO] WebRTC GUI backend enabled.\n",
      "[Open3D INFO] WebRTCWindowSystem: HTTP handshake server disabled.\n"
     ]
    },
    {
     "data": {
      "application/vnd.jupyter.widget-view+json": {
       "model_id": "98be32b84fad443ab14a791cf45dbe48",
       "version_major": 2,
       "version_minor": 0
      },
      "text/plain": [
       "Widget(value='<iframe src=\"http://localhost:36239/index.html?ui=P_0x781706b746b0_12&reconnect=auto\" class=\"pyv…"
      ]
     },
     "metadata": {},
     "output_type": "display_data"
    },
    {
     "data": {
      "application/vnd.jupyter.widget-view+json": {
       "model_id": "0f0c20367b8b4cf48b77ea02998abce1",
       "version_major": 2,
       "version_minor": 0
      },
      "text/plain": [
       "Widget(value='<iframe src=\"http://localhost:36239/index.html?ui=P_0x78171c4ffd40_13&reconnect=auto\" class=\"pyv…"
      ]
     },
     "metadata": {},
     "output_type": "display_data"
    },
    {
     "data": {
      "application/vnd.jupyter.widget-view+json": {
       "model_id": "b1a2b084cef7409da695597f3e0f5435",
       "version_major": 2,
       "version_minor": 0
      },
      "text/plain": [
       "Widget(value='<iframe src=\"http://localhost:36239/index.html?ui=P_0x781706196390_14&reconnect=auto\" class=\"pyv…"
      ]
     },
     "metadata": {},
     "output_type": "display_data"
    },
    {
     "name": "stdout",
     "output_type": "stream",
     "text": [
      "Grasp Plan: {'type': 'Plane', 'centroid': array([ 9.99999990e-01, -1.30789550e-04,  4.57816721e-05]), 'approach_vector': array([-0.05911607])}\n"
     ]
    }
   ],
   "source": [
    "import numpy as np\n",
    "import pyvista as pv\n",
    "from sklearn.decomposition import PCA\n",
    "from sklearn.mixture import GaussianMixture\n",
    "from scipy.spatial import ConvexHull\n",
    "from scipy.spatial.transform import Rotation as R\n",
    "import open3d as o3d\n",
    "\n",
    "def load_and_display_obj(file_path):\n",
    "    \"\"\"Load and display a .obj file.\"\"\"\n",
    "    mesh = pv.read(file_path)\n",
    "    plotter = pv.Plotter()\n",
    "    plotter.add_mesh(mesh, color='white', show_edges=True)\n",
    "    plotter.show()\n",
    "    return mesh\n",
    "\n",
    "def reduce_dimensions(mesh, n_components=3):\n",
    "    \"\"\"Reduce dimensions of the 3D points using PCA.\"\"\"\n",
    "    points = mesh.points  # Get the 3D points of the mesh\n",
    "    pca = PCA(n_components=n_components)\n",
    "    reduced_points = pca.fit_transform(points)\n",
    "    \n",
    "    # Visualize reduced data\n",
    "    cloud = pv.PolyData(reduced_points)\n",
    "    cloud.plot(render_points_as_spheres=True, point_size=5)\n",
    "    return reduced_points, pca\n",
    "\n",
    "def filter_convex_hull(points):\n",
    "    \"\"\"Filter points by retaining only those on the convex hull.\"\"\"\n",
    "    hull = ConvexHull(points)\n",
    "    hull_points = points[hull.vertices]\n",
    "    return hull_points\n",
    "\n",
    "def detect_primitives_o3d(points):\n",
    "    \"\"\"Detect shape primitives using Open3D.\"\"\"\n",
    "    primitives = []\n",
    "    point_cloud = o3d.geometry.PointCloud()\n",
    "    point_cloud.points = o3d.utility.Vector3dVector(points)\n",
    "\n",
    "    # Plane detection using RANSAC\n",
    "    plane_model, inliers = point_cloud.segment_plane(distance_threshold=0.01, ransac_n=3, num_iterations=1000)\n",
    "    primitives.append((\"Plane\", plane_model))\n",
    "\n",
    "    # Sphere detection (example, requires tuning)\n",
    "    # Currently Open3D doesn't directly support sphere detection, but a similar approach can be implemented.\n",
    "    # You can fit other primitives like cylinders or cones using a similar method.\n",
    "\n",
    "    return primitives\n",
    "\n",
    "def fit_mixture_of_gaussians(points, n_components=4):\n",
    "    \"\"\"Fit a Gaussian Mixture Model to the points.\"\"\"\n",
    "    gmm = GaussianMixture(n_components=n_components, random_state=42)\n",
    "    gmm.fit(points)\n",
    "    labels = gmm.predict(points)\n",
    "    return labels, gmm\n",
    "\n",
    "def visualize_clusters(points, labels):\n",
    "    \"\"\"Visualize the clusters with colors.\"\"\"\n",
    "    cloud = pv.PolyData(points)\n",
    "    cloud[\"Cluster\"] = labels\n",
    "    cloud.plot(render_points_as_spheres=True, point_size=5)\n",
    "\n",
    "def generate_robotic_grasp_plan(primitives):\n",
    "    \"\"\"Generate a grasp plan for a robotic manipulator based on detected primitives.\"\"\"\n",
    "    grasp_plans = []\n",
    "    for primitive_type, model in primitives:\n",
    "        if primitive_type == \"Plane\":\n",
    "            # Example: Grasp at the centroid of the plane\n",
    "            centroid = model[:3]\n",
    "            normal = model[3:]\n",
    "            grasp_plans.append({\n",
    "                \"type\": \"Plane\",\n",
    "                \"centroid\": centroid,\n",
    "                \"approach_vector\": normal\n",
    "            })\n",
    "        # Add logic for other shapes like spheres, cylinders, or cones\n",
    "\n",
    "    return grasp_plans\n",
    "\n",
    "def main():\n",
    "    obj_file_path = \"/home/ritz/Desktop/SEM 3/ML/Project/bottle.obj\"  # Update file path\n",
    "\n",
    "    # Step 1: Load and display the .obj file\n",
    "    mesh = load_and_display_obj(obj_file_path)\n",
    "\n",
    "    # Step 2: Reduce dimensions or filter relevant points\n",
    "    reduced_points, _ = reduce_dimensions(mesh)\n",
    "    filtered_points = filter_convex_hull(reduced_points)\n",
    "\n",
    "    # Step 3: Detect primitives using Open3D\n",
    "    primitives = detect_primitives_o3d(filtered_points)\n",
    "\n",
    "    # Step 4: Fit Gaussian Mixture Model for segmentation\n",
    "    labels, gmm = fit_mixture_of_gaussians(filtered_points, n_components=4)\n",
    "    \n",
    "    # Visualize clusters\n",
    "    visualize_clusters(filtered_points, labels)\n",
    "\n",
    "    # Step 5: Generate grasp plans based on detected primitives\n",
    "    grasp_plans = generate_robotic_grasp_plan(primitives)\n",
    "    for plan in grasp_plans:\n",
    "        print(\"Grasp Plan:\", plan)\n",
    "\n",
    "if __name__ == \"__main__\":\n",
    "    main()\n"
   ]
  },
  {
   "cell_type": "code",
   "execution_count": 4,
   "metadata": {},
   "outputs": [
    {
     "data": {
      "application/vnd.jupyter.widget-view+json": {
       "model_id": "53d00b6df5344d27a580088e527887cb",
       "version_major": 2,
       "version_minor": 0
      },
      "text/plain": [
       "Widget(value='<iframe src=\"http://localhost:36239/index.html?ui=P_0x781707fa6300_15&reconnect=auto\" class=\"pyv…"
      ]
     },
     "metadata": {},
     "output_type": "display_data"
    },
    {
     "data": {
      "application/vnd.jupyter.widget-view+json": {
       "model_id": "a4433c85288d41e9b42ced437f872d4a",
       "version_major": 2,
       "version_minor": 0
      },
      "text/plain": [
       "Widget(value='<iframe src=\"http://localhost:36239/index.html?ui=P_0x781705031eb0_16&reconnect=auto\" class=\"pyv…"
      ]
     },
     "metadata": {},
     "output_type": "display_data"
    },
    {
     "data": {
      "application/vnd.jupyter.widget-view+json": {
       "model_id": "72a419aca3f34020808429ae62fd1735",
       "version_major": 2,
       "version_minor": 0
      },
      "text/plain": [
       "Widget(value='<iframe src=\"http://localhost:36239/index.html?ui=P_0x781705045fd0_17&reconnect=auto\" class=\"pyv…"
      ]
     },
     "metadata": {},
     "output_type": "display_data"
    },
    {
     "data": {
      "application/vnd.jupyter.widget-view+json": {
       "model_id": "db890035cd42464b84f71f0acf47dcd9",
       "version_major": 2,
       "version_minor": 0
      },
      "text/plain": [
       "Widget(value='<iframe src=\"http://localhost:36239/index.html?ui=P_0x7816f4d1c560_18&reconnect=auto\" class=\"pyv…"
      ]
     },
     "metadata": {},
     "output_type": "display_data"
    },
    {
     "data": {
      "application/vnd.jupyter.widget-view+json": {
       "model_id": "2c43f5af81a748a7a9a6f1ec62113a0d",
       "version_major": 2,
       "version_minor": 0
      },
      "text/plain": [
       "Widget(value='<iframe src=\"http://localhost:36239/index.html?ui=P_0x7816f4de8890_19&reconnect=auto\" class=\"pyv…"
      ]
     },
     "metadata": {},
     "output_type": "display_data"
    },
    {
     "name": "stdout",
     "output_type": "stream",
     "text": [
      "Grasp Plan: {'type': 'Plane', 'centroid': [0.059116067229013296, -2.0381963677468154e-05, 9.178742304338281e-06], 'approach_vector': [0.9999999903990661, -0.00013078954992101958, 4.578167208020358e-05]}\n"
     ]
    }
   ],
   "source": [
    "import numpy as np\n",
    "import pyvista as pv\n",
    "from sklearn.decomposition import PCA\n",
    "from sklearn.mixture import GaussianMixture\n",
    "from scipy.spatial import ConvexHull\n",
    "import open3d as o3d\n",
    "\n",
    "def load_and_display_obj(file_path):\n",
    "    \"\"\"Load and display a .obj file.\"\"\"\n",
    "    mesh = pv.read(file_path)\n",
    "    plotter = pv.Plotter()\n",
    "    plotter.add_mesh(mesh, color='white', show_edges=True)\n",
    "    plotter.show()\n",
    "    return mesh\n",
    "\n",
    "def reduce_dimensions(mesh, n_components=3):\n",
    "    \"\"\"Reduce dimensions of the 3D points using PCA.\"\"\"\n",
    "    points = mesh.points  # Get the 3D points of the mesh\n",
    "    pca = PCA(n_components=n_components)\n",
    "    reduced_points = pca.fit_transform(points)\n",
    "    \n",
    "    # Visualize reduced data\n",
    "    cloud = pv.PolyData(reduced_points)\n",
    "    plotter = pv.Plotter()\n",
    "    plotter.add_mesh(cloud, render_points_as_spheres=True, point_size=5)\n",
    "    plotter.show()\n",
    "    return reduced_points, pca\n",
    "\n",
    "def filter_convex_hull(points):\n",
    "    \"\"\"Filter points by retaining only those on the convex hull.\"\"\"\n",
    "    hull = ConvexHull(points)\n",
    "    hull_points = points[hull.vertices]\n",
    "    \n",
    "    # Visualize convex hull\n",
    "    cloud = pv.PolyData(hull_points)\n",
    "    plotter = pv.Plotter()\n",
    "    plotter.add_mesh(cloud, render_points_as_spheres=True, color=\"blue\", point_size=5)\n",
    "    plotter.show()\n",
    "    return hull_points\n",
    "\n",
    "def detect_primitives_o3d(points):\n",
    "    \"\"\"Detect shape primitives using Open3D.\"\"\"\n",
    "    primitives = []\n",
    "    point_cloud = o3d.geometry.PointCloud()\n",
    "    point_cloud.points = o3d.utility.Vector3dVector(points)\n",
    "\n",
    "    # Plane detection using RANSAC\n",
    "    plane_model, inliers = point_cloud.segment_plane(distance_threshold=0.01, ransac_n=3, num_iterations=1000)\n",
    "    inlier_cloud = point_cloud.select_by_index(inliers)\n",
    "    primitives.append((\"Plane\", plane_model, inlier_cloud))\n",
    "\n",
    "    # Visualize plane detection\n",
    "    o3d.visualization.draw_geometries([inlier_cloud], window_name=\"Detected Plane\")\n",
    "\n",
    "    # Add logic for sphere and other shapes if required\n",
    "    return primitives\n",
    "\n",
    "def fit_mixture_of_gaussians(points, n_components=4):\n",
    "    \"\"\"Fit a Gaussian Mixture Model to the points.\"\"\"\n",
    "    gmm = GaussianMixture(n_components=n_components, random_state=42)\n",
    "    gmm.fit(points)\n",
    "    labels = gmm.predict(points)\n",
    "    \n",
    "    # Visualize GMM clusters\n",
    "    cloud = pv.PolyData(points)\n",
    "    cloud[\"Cluster\"] = labels\n",
    "    plotter = pv.Plotter()\n",
    "    plotter.add_mesh(cloud, render_points_as_spheres=True, point_size=5)\n",
    "    plotter.show()\n",
    "    return labels, gmm\n",
    "\n",
    "def generate_robotic_grasp_plan(primitives):\n",
    "    \"\"\"Generate a grasp plan for a robotic manipulator based on detected primitives.\"\"\"\n",
    "    grasp_plans = []\n",
    "    for primitive_type, model, inlier_cloud in primitives:\n",
    "        if primitive_type == \"Plane\":\n",
    "            # Example: Grasp at the centroid of the plane\n",
    "            centroid = np.mean(np.asarray(inlier_cloud.points), axis=0)\n",
    "            normal = model[:3]\n",
    "            grasp_plans.append({\n",
    "                \"type\": \"Plane\",\n",
    "                \"centroid\": centroid.tolist(),\n",
    "                \"approach_vector\": normal.tolist()\n",
    "            })\n",
    "\n",
    "    # Visualize detected primitive grasp points\n",
    "    for plan in grasp_plans:\n",
    "        sphere = pv.Sphere(center=plan[\"centroid\"], radius=0.02)\n",
    "        plotter = pv.Plotter()\n",
    "        plotter.add_mesh(sphere, color=\"red\")\n",
    "        plotter.show()\n",
    "\n",
    "    return grasp_plans\n",
    "\n",
    "def main():\n",
    "    obj_file_path = \"/home/ritz/Desktop/SEM 3/ML/Project/bottle.obj\"  # Update file path\n",
    "\n",
    "    # Step 1: Load and display the .obj file\n",
    "    mesh = load_and_display_obj(obj_file_path)\n",
    "\n",
    "    # Step 2: Reduce dimensions or filter relevant points\n",
    "    reduced_points, _ = reduce_dimensions(mesh)\n",
    "    filtered_points = filter_convex_hull(reduced_points)\n",
    "\n",
    "    # Step 3: Detect primitives using Open3D\n",
    "    primitives = detect_primitives_o3d(filtered_points)\n",
    "\n",
    "    # Step 4: Fit Gaussian Mixture Model for segmentation\n",
    "    labels, gmm = fit_mixture_of_gaussians(filtered_points, n_components=4)\n",
    "\n",
    "    # Step 5: Generate grasp plans based on detected primitives\n",
    "    grasp_plans = generate_robotic_grasp_plan(primitives)\n",
    "    for plan in grasp_plans:\n",
    "        print(\"Grasp Plan:\", plan)\n",
    "\n",
    "if __name__ == \"__main__\":\n",
    "    main()\n"
   ]
  },
  {
   "cell_type": "code",
   "execution_count": null,
   "metadata": {},
   "outputs": [],
   "source": []
  },
  {
   "cell_type": "code",
   "execution_count": 2,
   "metadata": {},
   "outputs": [
    {
     "data": {
      "application/vnd.jupyter.widget-view+json": {
       "model_id": "b195ea96111349a09203b33fbe734cac",
       "version_major": 2,
       "version_minor": 0
      },
      "text/plain": [
       "Widget(value='<iframe src=\"http://localhost:36239/index.html?ui=P_0x78173f6a21e0_3&reconnect=auto\" class=\"pyvi…"
      ]
     },
     "metadata": {},
     "output_type": "display_data"
    },
    {
     "data": {
      "application/vnd.jupyter.widget-view+json": {
       "model_id": "b5fe0781b4494f0c8095f526c84a13ec",
       "version_major": 2,
       "version_minor": 0
      },
      "text/plain": [
       "Widget(value='<iframe src=\"http://localhost:36239/index.html?ui=P_0x781733f29df0_4&reconnect=auto\" class=\"pyvi…"
      ]
     },
     "metadata": {},
     "output_type": "display_data"
    },
    {
     "data": {
      "application/vnd.jupyter.widget-view+json": {
       "model_id": "e290e857b28b4593b3a743c6b9f874ca",
       "version_major": 2,
       "version_minor": 0
      },
      "text/plain": [
       "Widget(value='<iframe src=\"http://localhost:36239/index.html?ui=P_0x781733f3a150_5&reconnect=auto\" class=\"pyvi…"
      ]
     },
     "metadata": {},
     "output_type": "display_data"
    },
    {
     "data": {
      "application/vnd.jupyter.widget-view+json": {
       "model_id": "906d6557d1ca499b83e7bc6457d0cb0a",
       "version_major": 2,
       "version_minor": 0
      },
      "text/plain": [
       "Widget(value='<iframe src=\"http://localhost:36239/index.html?ui=P_0x7817381e81a0_6&reconnect=auto\" class=\"pyvi…"
      ]
     },
     "metadata": {},
     "output_type": "display_data"
    },
    {
     "data": {
      "application/vnd.jupyter.widget-view+json": {
       "model_id": "b081e04d88d541709b28f105b21fb578",
       "version_major": 2,
       "version_minor": 0
      },
      "text/plain": [
       "Widget(value='<iframe src=\"http://localhost:36239/index.html?ui=P_0x7817381ea330_7&reconnect=auto\" class=\"pyvi…"
      ]
     },
     "metadata": {},
     "output_type": "display_data"
    },
    {
     "data": {
      "application/vnd.jupyter.widget-view+json": {
       "model_id": "8caaeec0a3f9498990dd04692ce34efa",
       "version_major": 2,
       "version_minor": 0
      },
      "text/plain": [
       "Widget(value='<iframe src=\"http://localhost:36239/index.html?ui=P_0x7817381ea4b0_8&reconnect=auto\" class=\"pyvi…"
      ]
     },
     "metadata": {},
     "output_type": "display_data"
    },
    {
     "data": {
      "application/vnd.jupyter.widget-view+json": {
       "model_id": "38c128e20ef8457f888517a606b1b667",
       "version_major": 2,
       "version_minor": 0
      },
      "text/plain": [
       "Widget(value='<iframe src=\"http://localhost:36239/index.html?ui=P_0x781728d023f0_9&reconnect=auto\" class=\"pyvi…"
      ]
     },
     "metadata": {},
     "output_type": "display_data"
    },
    {
     "data": {
      "application/vnd.jupyter.widget-view+json": {
       "model_id": "c2cb0c9590e040ce9aea21bdc7a9861d",
       "version_major": 2,
       "version_minor": 0
      },
      "text/plain": [
       "Widget(value='<iframe src=\"http://localhost:36239/index.html?ui=P_0x78171750c5f0_10&reconnect=auto\" class=\"pyv…"
      ]
     },
     "metadata": {},
     "output_type": "display_data"
    },
    {
     "data": {
      "application/vnd.jupyter.widget-view+json": {
       "model_id": "c89e3060469c4c2cb90354bf7e8437d4",
       "version_major": 2,
       "version_minor": 0
      },
      "text/plain": [
       "Widget(value='<iframe src=\"http://localhost:36239/index.html?ui=P_0x78171750e7e0_11&reconnect=auto\" class=\"pyv…"
      ]
     },
     "metadata": {},
     "output_type": "display_data"
    },
    {
     "name": "stdout",
     "output_type": "stream",
     "text": [
      "Grasp Plan 1: Centroid at [ 1.08875677e-02 -1.40581724e-05  6.96515766e-06]\n",
      "Grasp Plan 2: Centroid at [-0.13310048 -0.01764257  0.01608137]\n",
      "Grasp Plan 3: Centroid at [-0.13549603  0.01225103 -0.01137257]\n",
      "Grasp Plan 4: Centroid at [ 5.91160672e-02 -2.03819637e-05  9.17874230e-06]\n"
     ]
    }
   ],
   "source": [
    "import numpy as np\n",
    "import pyvista as pv\n",
    "from sklearn.decomposition import PCA\n",
    "from sklearn.mixture import GaussianMixture\n",
    "from scipy.spatial import ConvexHull\n",
    "\n",
    "def load_and_display_obj(file_path):\n",
    "    # Read and visualize the 3D object\n",
    "    mesh = pv.read(file_path)\n",
    "    plotter = pv.Plotter()\n",
    "    plotter.add_mesh(mesh, color='white', show_edges=True)\n",
    "    plotter.show()\n",
    "    return mesh\n",
    "\n",
    "def reduce_dimensions(mesh, n_components=3):\n",
    "    # Reduce dimensions of the points in the mesh using PCA\n",
    "    points = mesh.points\n",
    "    pca = PCA(n_components=n_components)\n",
    "    reduced_points = pca.fit_transform(points)\n",
    "\n",
    "    # Visualize the reduced points\n",
    "    reduced_cloud = pv.PolyData(reduced_points)\n",
    "    plotter = pv.Plotter()\n",
    "    plotter.add_mesh(reduced_cloud, render_points_as_spheres=True, point_size=5)\n",
    "    plotter.show()\n",
    "\n",
    "    return reduced_points, pca\n",
    "\n",
    "def filter_convex_hull(points):\n",
    "    # Compute and filter points on the convex hull\n",
    "    hull = ConvexHull(points)\n",
    "    hull_points = points[hull.vertices]\n",
    "\n",
    "    # Visualize convex hull points\n",
    "    hull_cloud = pv.PolyData(hull_points)\n",
    "    plotter = pv.Plotter()\n",
    "    plotter.add_mesh(hull_cloud, color='blue', render_points_as_spheres=True, point_size=5)\n",
    "    plotter.show()\n",
    "\n",
    "    return hull_points\n",
    "\n",
    "def fit_mixture_of_gaussians(points, n_components=4):\n",
    "    # Apply Gaussian Mixture Model to fit and cluster points\n",
    "    gmm = GaussianMixture(n_components=n_components, random_state=42)\n",
    "    gmm.fit(points)\n",
    "    labels = gmm.predict(points)\n",
    "\n",
    "    # Visualize GMM clustering results\n",
    "    clustered_cloud = pv.PolyData(points)\n",
    "    clustered_cloud[\"Cluster\"] = labels\n",
    "    plotter = pv.Plotter()\n",
    "    plotter.add_mesh(clustered_cloud, render_points_as_spheres=True, point_size=5)\n",
    "    plotter.show()\n",
    "\n",
    "    return labels, gmm\n",
    "\n",
    "def visualize_primitive_detection(points, labels):\n",
    "    # Visualize detected primitives using the clustering labels\n",
    "    cloud = pv.PolyData(points)\n",
    "    cloud[\"Cluster\"] = labels\n",
    "\n",
    "    plotter = pv.Plotter()\n",
    "    plotter.add_mesh(cloud, render_points_as_spheres=True, point_size=5)\n",
    "    plotter.show()\n",
    "\n",
    "def generate_grasp_plan(points, labels):\n",
    "    # Visualize grasp plans for detected primitives\n",
    "    cluster_centroids = []\n",
    "    unique_labels = np.unique(labels)\n",
    "\n",
    "    for label in unique_labels:\n",
    "        cluster_points = points[labels == label]\n",
    "        centroid = np.mean(cluster_points, axis=0)\n",
    "        cluster_centroids.append(centroid)\n",
    "\n",
    "        # Visualize each centroid\n",
    "        sphere = pv.Sphere(center=centroid, radius=0.02)\n",
    "        plotter = pv.Plotter()\n",
    "        plotter.add_mesh(sphere, color=\"red\")\n",
    "        plotter.show()\n",
    "\n",
    "    return cluster_centroids\n",
    "\n",
    "def main():\n",
    "    obj_file_path = \"/home/ritz/Desktop/SEM 3/ML/Project/bottle.obj\"\n",
    "\n",
    "    # Step 1: Load and visualize the 3D object\n",
    "    mesh = load_and_display_obj(obj_file_path)\n",
    "\n",
    "    # Step 2: Reduce dimensions\n",
    "    reduced_points, _ = reduce_dimensions(mesh)\n",
    "\n",
    "    # Step 3: Filter convex hull points\n",
    "    hull_points = filter_convex_hull(reduced_points)\n",
    "\n",
    "    # Step 4: Fit Gaussian Mixture Model and visualize clusters\n",
    "    labels, gmm = fit_mixture_of_gaussians(hull_points, n_components=4)\n",
    "\n",
    "    # Step 5: Visualize primitive detection\n",
    "    visualize_primitive_detection(hull_points, labels)\n",
    "\n",
    "    # Step 6: Generate and visualize grasp plans\n",
    "    centroids = generate_grasp_plan(hull_points, labels)\n",
    "    for idx, centroid in enumerate(centroids):\n",
    "        print(f\"Grasp Plan {idx + 1}: Centroid at {centroid}\")\n",
    "\n",
    "if __name__ == \"__main__\":\n",
    "    main()\n"
   ]
  },
  {
   "cell_type": "code",
   "execution_count": null,
   "metadata": {},
   "outputs": [],
   "source": []
  }
 ],
 "metadata": {
  "kernelspec": {
   "display_name": "ML",
   "language": "python",
   "name": "python3"
  },
  "language_info": {
   "codemirror_mode": {
    "name": "ipython",
    "version": 3
   },
   "file_extension": ".py",
   "mimetype": "text/x-python",
   "name": "python",
   "nbconvert_exporter": "python",
   "pygments_lexer": "ipython3",
   "version": "3.12.8"
  }
 },
 "nbformat": 4,
 "nbformat_minor": 2
}
