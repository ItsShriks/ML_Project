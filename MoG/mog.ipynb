{
 "cells": [
  {
   "cell_type": "code",
   "execution_count": 4,
   "metadata": {},
   "outputs": [
    {
     "data": {
      "application/vnd.jupyter.widget-view+json": {
       "model_id": "5a60779333da4e5abea99b0391d8bd38",
       "version_major": 2,
       "version_minor": 0
      },
      "text/plain": [
       "Widget(value='<iframe src=\"http://localhost:49821/index.html?ui=P_0x16566c920_8&reconnect=auto\" class=\"pyvista…"
      ]
     },
     "metadata": {},
     "output_type": "display_data"
    },
    {
     "data": {
      "application/vnd.jupyter.widget-view+json": {
       "model_id": "e861be81ea6d4d85bc8e9680fc120659",
       "version_major": 2,
       "version_minor": 0
      },
      "text/plain": [
       "Widget(value='<iframe src=\"http://localhost:49821/index.html?ui=P_0x166a1b590_9&reconnect=auto\" class=\"pyvista…"
      ]
     },
     "metadata": {},
     "output_type": "display_data"
    },
    {
     "data": {
      "application/vnd.jupyter.widget-view+json": {
       "model_id": "df11bc3a9c8c4208a4f725b2b75e9e37",
       "version_major": 2,
       "version_minor": 0
      },
      "text/plain": [
       "Widget(value='<iframe src=\"http://localhost:49821/index.html?ui=P_0x166a04a40_10&reconnect=auto\" class=\"pyvist…"
      ]
     },
     "metadata": {},
     "output_type": "display_data"
    },
    {
     "data": {
      "application/vnd.jupyter.widget-view+json": {
       "model_id": "5abf0a0ab1a249bba25155822ee7f0cf",
       "version_major": 2,
       "version_minor": 0
      },
      "text/plain": [
       "Widget(value='<iframe src=\"http://localhost:49821/index.html?ui=P_0x166a19220_11&reconnect=auto\" class=\"pyvist…"
      ]
     },
     "metadata": {},
     "output_type": "display_data"
    },
    {
     "name": "stdout",
     "output_type": "stream",
     "text": [
      "Cluster 0: Detected Shape - Cylinder-like (elongated along Z)\n",
      "Cluster 1: Detected Shape - Cylinder-like (elongated along Z)\n",
      "Cluster 2: Detected Shape - Cylinder-like (elongated along Z)\n",
      "Cluster 3: Detected Shape - Cylinder-like (elongated along Z)\n",
      "Grasp Plan 1: Centroid at [ 1.08875677e-02 -1.40581724e-05  6.96515766e-06]\n",
      "Grasp Plan 2: Centroid at [-0.13310048 -0.01764257  0.01608137]\n",
      "Grasp Plan 3: Centroid at [-0.13549603  0.01225103 -0.01137257]\n",
      "Grasp Plan 4: Centroid at [ 5.91160672e-02 -2.03819637e-05  9.17874230e-06]\n",
      "Silhouette Score: 0.52333402324355\n"
     ]
    }
   ],
   "source": [
    "import numpy as np\n",
    "import pyvista as pv\n",
    "from sklearn.decomposition import PCA\n",
    "from sklearn.mixture import GaussianMixture\n",
    "from scipy.spatial import ConvexHull\n",
    "from sklearn.metrics import silhouette_score, adjusted_rand_score\n",
    "from time import time\n",
    "\n",
    "\n",
    "def load_and_display_obj(file_path):\n",
    "    # Read and visualize the 3D object\n",
    "    mesh = pv.read(file_path)\n",
    "    plotter = pv.Plotter()\n",
    "    plotter.add_mesh(mesh, color='white', show_edges=True)\n",
    "    plotter.show()\n",
    "    return mesh\n",
    "\n",
    "def reduce_dimensions(mesh, n_components=3):\n",
    "    # Reduce dimensions of the points in the mesh using PCA\n",
    "    points = mesh.points\n",
    "    pca = PCA(n_components=n_components)\n",
    "    reduced_points = pca.fit_transform(points)\n",
    "\n",
    "    # Visualize the reduced points\n",
    "    reduced_cloud = pv.PolyData(reduced_points)\n",
    "    plotter = pv.Plotter()\n",
    "    plotter.add_mesh(reduced_cloud, render_points_as_spheres=True, point_size=5)\n",
    "    plotter.show()\n",
    "\n",
    "    return reduced_points, pca\n",
    "\n",
    "def filter_convex_hull(points):\n",
    "    # Compute and filter points on the convex hull\n",
    "    hull = ConvexHull(points)\n",
    "    hull_points = points[hull.vertices]\n",
    "\n",
    "    # Visualize convex hull points\n",
    "    hull_cloud = pv.PolyData(hull_points)\n",
    "    plotter = pv.Plotter()\n",
    "    plotter.add_mesh(hull_cloud, color='blue', render_points_as_spheres=True, point_size=5)\n",
    "    plotter.show()\n",
    "\n",
    "    return hull_points\n",
    "\n",
    "def fit_mixture_of_gaussians(points, n_components=4):\n",
    "    # Apply Gaussian Mixture Model to fit and cluster points\n",
    "    gmm = GaussianMixture(n_components=n_components, random_state=42)\n",
    "    gmm.fit(points)\n",
    "    labels = gmm.predict(points)\n",
    "\n",
    "    # Visualize GMM clustering results\n",
    "    clustered_cloud = pv.PolyData(points)\n",
    "    clustered_cloud[\"Cluster\"] = labels\n",
    "    plotter = pv.Plotter()\n",
    "    plotter.add_mesh(clustered_cloud, render_points_as_spheres=True, point_size=5)\n",
    "    plotter.show()\n",
    "\n",
    "    return labels, gmm\n",
    "\n",
    "def detect_and_print_primitives(points, labels):\n",
    "    \"\"\"\n",
    "    Detect geometric primitives from clusters and print their shape.\n",
    "    \"\"\"\n",
    "    unique_labels = np.unique(labels)\n",
    "    detected_shapes = []\n",
    "\n",
    "    for label in unique_labels:\n",
    "        cluster_points = points[labels == label]\n",
    "\n",
    "        # Analyze cluster properties (example: bounding box dimensions)\n",
    "        bounds = np.ptp(cluster_points, axis=0)  # Peak-to-peak (range) along each axis\n",
    "        dimensions = bounds / np.max(bounds)  # Normalize dimensions to compare ratios\n",
    "\n",
    "        if np.allclose(dimensions, [1, 1, 1], atol=0.2):  # Close to cubic dimensions\n",
    "            shape = \"Sphere or Cube\"\n",
    "        elif dimensions[0] > dimensions[1] and dimensions[0] > dimensions[2]:\n",
    "            shape = \"Cylinder-like (elongated along X)\"\n",
    "        elif dimensions[1] > dimensions[0] and dimensions[1] > dimensions[2]:\n",
    "            shape = \"Cylinder-like (elongated along Y)\"\n",
    "        elif dimensions[2] > dimensions[0] and dimensions[2] > dimensions[1]:\n",
    "            shape = \"Cylinder-like (elongated along Z)\"\n",
    "        else:\n",
    "            shape = \"Irregular/Unknown\"\n",
    "\n",
    "        detected_shapes.append(shape)\n",
    "\n",
    "        print(f\"Cluster {label}: Detected Shape - {shape}\")\n",
    "\n",
    "    return detected_shapes\n",
    "\n",
    "def generate_grasp_plan(points, labels):\n",
    "    # Visualize grasp plans for detected primitives\n",
    "    cluster_centroids = []\n",
    "    unique_labels = np.unique(labels)\n",
    "\n",
    "    for label in unique_labels:\n",
    "        cluster_points = points[labels == label]\n",
    "        centroid = np.mean(cluster_points, axis=0)\n",
    "\n",
    "        # Ensure centroids are of float type for further processing\n",
    "        centroid = np.array(centroid, dtype=np.float64)  # Convert to float64 explicitly\n",
    "        cluster_centroids.append(centroid)\n",
    "\n",
    "        # Visualize each centroid\n",
    "        # sphere = pv.Sphere(center=centroid, radius=0.02)\n",
    "        # plotter = pv.Plotter()\n",
    "        # plotter.add_mesh(sphere, color=\"red\")\n",
    "        # plotter.show()\n",
    "\n",
    "    return cluster_centroids\n",
    "\n",
    "def evaluate_clustering(points, true_labels=None):\n",
    "    # Fit GMM\n",
    "    gmm = GaussianMixture(n_components=4, random_state=42)\n",
    "    gmm.fit(points)\n",
    "    labels = gmm.predict(points)\n",
    "\n",
    "    # Silhouette Score\n",
    "    silhouette = silhouette_score(points, labels)\n",
    "    print(f\"Silhouette Score: {silhouette}\")\n",
    "\n",
    "    def measure_time(func, *args):\n",
    "        start_time = time()\n",
    "        result = func(*args)\n",
    "        end_time = time()\n",
    "        print(f\"Execution Time: {end_time - start_time} seconds\")\n",
    "        return result\n",
    "\n",
    "def main():\n",
    "    obj_file_path = \"../obj/bottle.obj\"\n",
    "\n",
    "    # Step 1: Load and visualize the 3D object\n",
    "    mesh = load_and_display_obj(obj_file_path)\n",
    "\n",
    "    # Step 2: Reduce dimensions\n",
    "    reduced_points, _ = reduce_dimensions(mesh)\n",
    "\n",
    "    # Step 3: Filter convex hull points\n",
    "    hull_points = filter_convex_hull(reduced_points)\n",
    "\n",
    "    # Step 4: Fit Gaussian Mixture Model and visualize clusters\n",
    "    labels, gmm = fit_mixture_of_gaussians(hull_points, n_components=4)\n",
    "\n",
    "    # Step 5: Detect and print primitive shapes\n",
    "    detected_shapes = detect_and_print_primitives(hull_points, labels)\n",
    "\n",
    "    # Step 6: Generate and visualize grasp plans\n",
    "    centroids = generate_grasp_plan(hull_points, labels)\n",
    "    for idx, centroid in enumerate(centroids):\n",
    "        print(f\"Grasp Plan {idx + 1}: Centroid at {centroid}\")\n",
    "    \n",
    "    evaluate_clustering(hull_points)\n",
    "    \n",
    "    \n",
    "\n",
    "if __name__ == \"__main__\":\n",
    "    main()"
   ]
  },
  {
   "cell_type": "code",
   "execution_count": null,
   "metadata": {},
   "outputs": [],
   "source": []
  },
  {
   "cell_type": "code",
   "execution_count": 24,
   "metadata": {},
   "outputs": [
    {
     "data": {
      "application/vnd.jupyter.widget-view+json": {
       "model_id": "30cf39ee8a964154b11a8d79e0b77606",
       "version_major": 2,
       "version_minor": 0
      },
      "text/plain": [
       "Widget(value='<iframe src=\"http://localhost:60531/index.html?ui=P_0x48d5bc830_93&reconnect=auto\" class=\"pyvist…"
      ]
     },
     "metadata": {},
     "output_type": "display_data"
    },
    {
     "data": {
      "application/vnd.jupyter.widget-view+json": {
       "model_id": "c6bfc36922da4d81b97c40cea80d0b9e",
       "version_major": 2,
       "version_minor": 0
      },
      "text/plain": [
       "Widget(value='<iframe src=\"http://localhost:60531/index.html?ui=P_0x4945584d0_94&reconnect=auto\" class=\"pyvist…"
      ]
     },
     "metadata": {},
     "output_type": "display_data"
    },
    {
     "data": {
      "application/vnd.jupyter.widget-view+json": {
       "model_id": "326fcc4cc7344da4bcf5736454e5defa",
       "version_major": 2,
       "version_minor": 0
      },
      "text/plain": [
       "Widget(value='<iframe src=\"http://localhost:60531/index.html?ui=P_0x3d1c03da0_95&reconnect=auto\" class=\"pyvist…"
      ]
     },
     "metadata": {},
     "output_type": "display_data"
    },
    {
     "data": {
      "application/vnd.jupyter.widget-view+json": {
       "model_id": "b6eda6625e32418080ff5899463fdff1",
       "version_major": 2,
       "version_minor": 0
      },
      "text/plain": [
       "Widget(value='<iframe src=\"http://localhost:60531/index.html?ui=P_0x44224b170_96&reconnect=auto\" class=\"pyvist…"
      ]
     },
     "metadata": {},
     "output_type": "display_data"
    },
    {
     "name": "stdout",
     "output_type": "stream",
     "text": [
      "Cluster 0: Detected Shape - Cylinder-like (elongated along Z)\n",
      "Cluster 1: Detected Shape - Cylinder-like (elongated along Y)\n",
      "Cluster 2: Detected Shape - Cylinder-like (elongated along Z)\n",
      "Cluster 3: Detected Shape - Cylinder-like (elongated along Y)\n",
      "Cluster 4: Detected Shape - Cylinder-like (elongated along Z)\n",
      "Cluster 5: Detected Shape - Cylinder-like (elongated along X)\n",
      "Cluster 6: Detected Shape - Cylinder-like (elongated along Z)\n",
      "Cluster 7: Detected Shape - Cylinder-like (elongated along Y)\n",
      "Cluster 8: Detected Shape - Cylinder-like (elongated along Y)\n",
      "Cluster 9: Detected Shape - Cylinder-like (elongated along X)\n",
      "Grasp Plan 1: Centroid at [-0.21851411 -0.17278626  0.02316174]\n",
      "Grasp Plan 2: Centroid at [0.26082895 0.06617371 0.19170542]\n",
      "Grasp Plan 3: Centroid at [-0.30350109  0.30433654  0.0778679 ]\n",
      "Grasp Plan 4: Centroid at [ 0.24952164  0.15777308 -0.2136264 ]\n",
      "Grasp Plan 5: Centroid at [ 0.26446701 -0.09749895 -0.03322297]\n",
      "Grasp Plan 6: Centroid at [ 0.15989639 -0.27784344 -0.00222758]\n",
      "Grasp Plan 7: Centroid at [0.22325842 0.35692535 0.04529786]\n",
      "Grasp Plan 8: Centroid at [-0.27541025  0.09105972 -0.1756077 ]\n",
      "Grasp Plan 9: Centroid at [-0.27067003  0.05021034  0.2104464 ]\n",
      "Grasp Plan 10: Centroid at [-0.04398904 -0.31368627 -0.00263658]\n"
     ]
    }
   ],
   "source": [
    "import numpy as np\n",
    "import pyvista as pv\n",
    "from sklearn.decomposition import PCA\n",
    "from sklearn.mixture import GaussianMixture\n",
    "from scipy.spatial import ConvexHull\n",
    "\n",
    "def load_and_display_obj(file_path):\n",
    "    # Read and visualize the 3D object\n",
    "    mesh = pv.read(file_path)\n",
    "    plotter = pv.Plotter()\n",
    "    plotter.add_mesh(mesh, color='white', show_edges=True)\n",
    "    plotter.show()\n",
    "    return mesh\n",
    "\n",
    "def reduce_dimensions(mesh, n_components=3):\n",
    "    # Reduce dimensions of the points in the mesh using PCA\n",
    "    points = mesh.points\n",
    "    pca = PCA(n_components=n_components)\n",
    "    reduced_points = pca.fit_transform(points)\n",
    "\n",
    "    # Visualize the reduced points\n",
    "    reduced_cloud = pv.PolyData(reduced_points)\n",
    "    plotter = pv.Plotter()\n",
    "    plotter.add_mesh(reduced_cloud, render_points_as_spheres=True, point_size=5)\n",
    "    plotter.show()\n",
    "\n",
    "    return reduced_points, pca\n",
    "\n",
    "def filter_convex_hull(points):\n",
    "    # Compute and filter points on the convex hull\n",
    "    hull = ConvexHull(points)\n",
    "    hull_points = points[hull.vertices]\n",
    "\n",
    "    # Visualize convex hull points\n",
    "    hull_cloud = pv.PolyData(hull_points)\n",
    "    plotter = pv.Plotter()\n",
    "    plotter.add_mesh(hull_cloud, color='blue', render_points_as_spheres=True, point_size=5)\n",
    "    plotter.show()\n",
    "\n",
    "    return hull_points\n",
    "\n",
    "def fit_mixture_of_gaussians(points, n_components=4):\n",
    "    # Apply Gaussian Mixture Model to fit and cluster points\n",
    "    gmm = GaussianMixture(n_components=n_components, random_state=42)\n",
    "    gmm.fit(points)\n",
    "    labels = gmm.predict(points)\n",
    "\n",
    "    # Visualize GMM clustering results\n",
    "    clustered_cloud = pv.PolyData(points)\n",
    "    clustered_cloud[\"Cluster\"] = labels\n",
    "    plotter = pv.Plotter()\n",
    "    plotter.add_mesh(clustered_cloud, render_points_as_spheres=True, point_size=5)\n",
    "    plotter.show()\n",
    "\n",
    "    return labels, gmm\n",
    "\n",
    "def detect_and_print_primitives(points, labels):\n",
    "    \"\"\"\n",
    "    Detect geometric primitives from clusters and print their shape.\n",
    "    \"\"\"\n",
    "    unique_labels = np.unique(labels)\n",
    "    detected_shapes = []\n",
    "\n",
    "    for label in unique_labels:\n",
    "        cluster_points = points[labels == label]\n",
    "\n",
    "        # Analyze cluster properties (example: bounding box dimensions)\n",
    "        bounds = np.ptp(cluster_points, axis=0)  # Peak-to-peak (range) along each axis\n",
    "        dimensions = bounds / np.max(bounds)  # Normalize dimensions to compare ratios\n",
    "\n",
    "        if np.allclose(dimensions, [1, 1, 1], atol=0.2):  # Close to cubic dimensions\n",
    "            shape = \"Sphere or Cube\"\n",
    "        elif dimensions[0] > dimensions[1] and dimensions[0] > dimensions[2]:\n",
    "            shape = \"Cylinder-like (elongated along X)\"\n",
    "        elif dimensions[1] > dimensions[0] and dimensions[1] > dimensions[2]:\n",
    "            shape = \"Cylinder-like (elongated along Y)\"\n",
    "        elif dimensions[2] > dimensions[0] and dimensions[2] > dimensions[1]:\n",
    "            shape = \"Cylinder-like (elongated along Z)\"\n",
    "        else:\n",
    "            shape = \"Irregular/Unknown\"\n",
    "\n",
    "        detected_shapes.append(shape)\n",
    "\n",
    "        print(f\"Cluster {label}: Detected Shape - {shape}\")\n",
    "\n",
    "    return detected_shapes\n",
    "\n",
    "def generate_grasp_plan(points, labels):\n",
    "    # Visualize grasp plans for detected primitives\n",
    "    cluster_centroids = []\n",
    "    unique_labels = np.unique(labels)\n",
    "\n",
    "    for label in unique_labels:\n",
    "        cluster_points = points[labels == label]\n",
    "        centroid = np.mean(cluster_points, axis=0)\n",
    "\n",
    "        # Ensure centroids are of float type for further processing\n",
    "        centroid = np.array(centroid, dtype=np.float64)  # Convert to float64 explicitly\n",
    "        cluster_centroids.append(centroid)\n",
    "\n",
    "        # Visualize each centroid\n",
    "        # sphere = pv.Sphere(center=centroid, radius=0.02)\n",
    "        # plotter = pv.Plotter()\n",
    "        # plotter.add_mesh(sphere, color=\"red\")\n",
    "        # plotter.show()\n",
    "\n",
    "    return cluster_centroids\n",
    "\n",
    "def main():\n",
    "    obj_file_path = \"../obj/cup.obj\"\n",
    "\n",
    "    # Step 1: Load and visualize the 3D object\n",
    "    mesh = load_and_display_obj(obj_file_path)\n",
    "\n",
    "    # Step 2: Reduce dimensions\n",
    "    reduced_points, _ = reduce_dimensions(mesh)\n",
    "\n",
    "    # Step 3: Filter convex hull points\n",
    "    hull_points = filter_convex_hull(reduced_points)\n",
    "\n",
    "    # Step 4: Fit Gaussian Mixture Model and visualize clusters\n",
    "    labels, gmm = fit_mixture_of_gaussians(hull_points, n_components=4)\n",
    "\n",
    "    # Step 5: Detect and print primitive shapes\n",
    "    detected_shapes = detect_and_print_primitives(hull_points, labels)\n",
    "\n",
    "    # Step 6: Generate and visualize grasp plans\n",
    "    centroids = generate_grasp_plan(hull_points, labels)\n",
    "    for idx, centroid in enumerate(centroids):\n",
    "        print(f\"Grasp Plan {idx + 1}: Centroid at {centroid}\")\n",
    "\n",
    "if __name__ == \"__main__\":\n",
    "    main()"
   ]
  },
  {
   "cell_type": "code",
   "execution_count": null,
   "metadata": {},
   "outputs": [
    {
     "data": {
      "application/vnd.jupyter.widget-view+json": {
       "model_id": "218a1584f6954340a011cd5f36210bda",
       "version_major": 2,
       "version_minor": 0
      },
      "text/plain": [
       "Widget(value='<iframe src=\"http://localhost:60531/index.html?ui=P_0x36593c860_36&reconnect=auto\" class=\"pyvist…"
      ]
     },
     "metadata": {},
     "output_type": "display_data"
    },
    {
     "data": {
      "application/vnd.jupyter.widget-view+json": {
       "model_id": "c1bc240262ce43458bacef5ab3f148ac",
       "version_major": 2,
       "version_minor": 0
      },
      "text/plain": [
       "Widget(value='<iframe src=\"http://localhost:60531/index.html?ui=P_0x36947eea0_37&reconnect=auto\" class=\"pyvist…"
      ]
     },
     "metadata": {},
     "output_type": "display_data"
    },
    {
     "data": {
      "application/vnd.jupyter.widget-view+json": {
       "model_id": "0a6cfd83b51645e3bfd26cb62e54d15b",
       "version_major": 2,
       "version_minor": 0
      },
      "text/plain": [
       "Widget(value='<iframe src=\"http://localhost:60531/index.html?ui=P_0x36a043620_38&reconnect=auto\" class=\"pyvist…"
      ]
     },
     "metadata": {},
     "output_type": "display_data"
    },
    {
     "data": {
      "application/vnd.jupyter.widget-view+json": {
       "model_id": "2308b1d5bdf5426a9c2c68bd4b4c7ed6",
       "version_major": 2,
       "version_minor": 0
      },
      "text/plain": [
       "Widget(value='<iframe src=\"http://localhost:60531/index.html?ui=P_0x374c35fa0_39&reconnect=auto\" class=\"pyvist…"
      ]
     },
     "metadata": {},
     "output_type": "display_data"
    },
    {
     "name": "stdout",
     "output_type": "stream",
     "text": [
      "Cluster 0: Detected Shape - Cylinder-like (elongated along Z)\n",
      "Cluster 1: Detected Shape - Cylinder-like (elongated along Z)\n",
      "Cluster 2: Detected Shape - Cylinder-like (elongated along Z)\n",
      "Cluster 3: Detected Shape - Cylinder-like (elongated along Z)\n",
      "Grasp Plan 1: Centroid at [0.25385236 0.12572917 0.04761816]\n",
      "Grasp Plan 2: Centroid at [-0.42673077  0.14696336  0.01328166]\n",
      "Grasp Plan 3: Centroid at [ 0.12131841 -0.04201496 -0.04200226]\n",
      "Grasp Plan 4: Centroid at [-0.08094122 -0.23375066  0.03615692]\n"
     ]
    }
   ],
   "source": [
    "import numpy as np\n",
    "import pyvista as pv\n",
    "from sklearn.decomposition import PCA\n",
    "from sklearn.mixture import GaussianMixture\n",
    "from scipy.spatial import ConvexHull\n",
    "\n",
    "def load_and_display_obj(file_path):\n",
    "    # Read and visualize the 3D object\n",
    "    mesh = pv.read(file_path)\n",
    "    plotter = pv.Plotter()\n",
    "    plotter.add_mesh(mesh, color='white', show_edges=True)\n",
    "    plotter.show()\n",
    "    return mesh\n",
    "\n",
    "def reduce_dimensions(mesh, n_components=3):\n",
    "    # Reduce dimensions of the points in the mesh using PCA\n",
    "    points = mesh.points\n",
    "    pca = PCA(n_components=n_components)\n",
    "    reduced_points = pca.fit_transform(points)\n",
    "\n",
    "    # Visualize the reduced points\n",
    "    reduced_cloud = pv.PolyData(reduced_points)\n",
    "    plotter = pv.Plotter()\n",
    "    plotter.add_mesh(reduced_cloud, render_points_as_spheres=True, point_size=5)\n",
    "    plotter.show()\n",
    "\n",
    "    return reduced_points, pca\n",
    "\n",
    "def filter_convex_hull(points):\n",
    "    # Compute and filter points on the convex hull\n",
    "    hull = ConvexHull(points)\n",
    "    hull_points = points[hull.vertices]\n",
    "\n",
    "    # Visualize convex hull points\n",
    "    hull_cloud = pv.PolyData(hull_points)\n",
    "    plotter = pv.Plotter()\n",
    "    plotter.add_mesh(hull_cloud, color='blue', render_points_as_spheres=True, point_size=5)\n",
    "    plotter.show()\n",
    "\n",
    "    return hull_points\n",
    "\n",
    "def fit_mixture_of_gaussians(points, n_components=4):\n",
    "    # Apply Gaussian Mixture Model to fit and cluster points\n",
    "    gmm = GaussianMixture(n_components=n_components, random_state=42)\n",
    "    gmm.fit(points)\n",
    "    labels = gmm.predict(points)\n",
    "\n",
    "    # Visualize GMM clustering results\n",
    "    clustered_cloud = pv.PolyData(points)\n",
    "    clustered_cloud[\"Cluster\"] = labels\n",
    "    plotter = pv.Plotter()\n",
    "    plotter.add_mesh(clustered_cloud, render_points_as_spheres=True, point_size=5)\n",
    "    plotter.show()\n",
    "\n",
    "    return labels, gmm\n",
    "\n",
    "def detect_and_print_primitives(points, labels):\n",
    "    \"\"\"\n",
    "    Detect geometric primitives from clusters and print their shape.\n",
    "    \"\"\"\n",
    "    unique_labels = np.unique(labels)\n",
    "    detected_shapes = []\n",
    "\n",
    "    for label in unique_labels:\n",
    "        cluster_points = points[labels == label]\n",
    "\n",
    "        # Analyze cluster properties (example: bounding box dimensions)\n",
    "        bounds = np.ptp(cluster_points, axis=0)  # Peak-to-peak (range) along each axis\n",
    "        dimensions = bounds / np.max(bounds)  # Normalize dimensions to compare ratios\n",
    "\n",
    "        if np.allclose(dimensions, [1, 1, 1], atol=0.2):  # Close to cubic dimensions\n",
    "            shape = \"Sphere or Cube\"\n",
    "        elif dimensions[0] > dimensions[1] and dimensions[0] > dimensions[2]:\n",
    "            shape = \"Cylinder-like (elongated along X)\"\n",
    "        elif dimensions[1] > dimensions[0] and dimensions[1] > dimensions[2]:\n",
    "            shape = \"Cylinder-like (elongated along Y)\"\n",
    "        elif dimensions[2] > dimensions[0] and dimensions[2] > dimensions[1]:\n",
    "            shape = \"Cylinder-like (elongated along Z)\"\n",
    "        else:\n",
    "            shape = \"Irregular/Unknown\"\n",
    "\n",
    "        detected_shapes.append(shape)\n",
    "\n",
    "        print(f\"Cluster {label}: Detected Shape - {shape}\")\n",
    "\n",
    "    return detected_shapes\n",
    "\n",
    "def generate_grasp_plan(points, labels):\n",
    "    # Visualize grasp plans for detected primitives\n",
    "    cluster_centroids = []\n",
    "    unique_labels = np.unique(labels)\n",
    "\n",
    "    for label in unique_labels:\n",
    "        cluster_points = points[labels == label]\n",
    "        centroid = np.mean(cluster_points, axis=0)\n",
    "\n",
    "        # Ensure centroids are of float type for further processing\n",
    "        centroid = np.array(centroid, dtype=np.float64)  # Convert to float64 explicitly\n",
    "        cluster_centroids.append(centroid)\n",
    "\n",
    "        # Visualize each centroid\n",
    "        # sphere = pv.Sphere(center=centroid, radius=0.02)\n",
    "        # plotter = pv.Plotter()\n",
    "        # plotter.add_mesh(sphere, color=\"red\")\n",
    "        # plotter.show()\n",
    "\n",
    "    return cluster_centroids\n",
    "\n",
    "def main():\n",
    "    obj_file_path = \"../obj/lamp.obj\"\n",
    "    \n",
    "    # Step 1: Load and visualize the 3D object\n",
    "    mesh = load_and_display_obj(obj_file_path)\n",
    "\n",
    "    # Step 2: Reduce dimensions\n",
    "    reduced_points, _ = reduce_dimensions(mesh)\n",
    "\n",
    "    # Step 3: Filter convex hull points\n",
    "    hull_points = filter_convex_hull(reduced_points)\n",
    "\n",
    "    # Step 4: Fit Gaussian Mixture Model and visualize clusters\n",
    "    labels, gmm = fit_mixture_of_gaussians(hull_points, n_components=4)\n",
    "\n",
    "    # Step 5: Detect and print primitive shapes\n",
    "    detected_shapes = detect_and_print_primitives(hull_points, labels)\n",
    "\n",
    "    # Step 6: Generate and visualize grasp plans\n",
    "    centroids = generate_grasp_plan(hull_points, labels)\n",
    "    for idx, centroid in enumerate(centroids):\n",
    "        print(f\"Grasp Plan {idx + 1}: Centroid at {centroid}\")\n",
    "\n",
    "if __name__ == \"__main__\":\n",
    "    main()"
   ]
  },
  {
   "cell_type": "code",
   "execution_count": null,
   "metadata": {},
   "outputs": [
    {
     "data": {
      "application/vnd.jupyter.widget-view+json": {
       "model_id": "a0deda46e32241daafccb40925bece9b",
       "version_major": 2,
       "version_minor": 0
      },
      "text/plain": [
       "Widget(value='<iframe src=\"http://localhost:60531/index.html?ui=P_0x3b367b260_72&reconnect=auto\" class=\"pyvist…"
      ]
     },
     "metadata": {},
     "output_type": "display_data"
    },
    {
     "name": "stderr",
     "output_type": "stream",
     "text": [
      "Context leak detected, msgtracer returned -1\n"
     ]
    },
    {
     "data": {
      "application/vnd.jupyter.widget-view+json": {
       "model_id": "c7650d6618b04dfd8c9dbf92dd930d36",
       "version_major": 2,
       "version_minor": 0
      },
      "text/plain": [
       "Widget(value='<iframe src=\"http://localhost:60531/index.html?ui=P_0x442b29580_73&reconnect=auto\" class=\"pyvist…"
      ]
     },
     "metadata": {},
     "output_type": "display_data"
    },
    {
     "data": {
      "application/vnd.jupyter.widget-view+json": {
       "model_id": "cd26e5f0f255426282bee839f37b7b1d",
       "version_major": 2,
       "version_minor": 0
      },
      "text/plain": [
       "Widget(value='<iframe src=\"http://localhost:60531/index.html?ui=P_0x47b46b2c0_74&reconnect=auto\" class=\"pyvist…"
      ]
     },
     "metadata": {},
     "output_type": "display_data"
    },
    {
     "data": {
      "application/vnd.jupyter.widget-view+json": {
       "model_id": "25504c10f2714663a1a040f690f020e2",
       "version_major": 2,
       "version_minor": 0
      },
      "text/plain": [
       "Widget(value='<iframe src=\"http://localhost:60531/index.html?ui=P_0x47b46b1d0_75&reconnect=auto\" class=\"pyvist…"
      ]
     },
     "metadata": {},
     "output_type": "display_data"
    },
    {
     "name": "stdout",
     "output_type": "stream",
     "text": [
      "Cluster 0: Detected Shape - Cylinder-like (elongated along Y)\n",
      "Cluster 1: Detected Shape - Cylinder-like (elongated along Y)\n",
      "Cluster 2: Detected Shape - Cylinder-like (elongated along Z)\n",
      "Cluster 3: Detected Shape - Irregular/Unknown\n",
      "Grasp Plan 1: Centroid at [-1.20710728 -0.70710642 -0.20710567]\n",
      "Grasp Plan 2: Centroid at [0.20710725 0.70710856 1.20710587]\n",
      "Grasp Plan 3: Centroid at [ 0.90236853 -0.47140566 -0.4309639 ]\n",
      "Grasp Plan 4: Centroid at [-0.7071055   1.41421278 -0.70710877]\n"
     ]
    },
    {
     "name": "stderr",
     "output_type": "stream",
     "text": [
      "/var/folders/pm/_y3ccgc55js8fzl2fwr1p2nr0000gn/T/ipykernel_56318/57105569.py:69: RuntimeWarning: invalid value encountered in divide\n",
      "  dimensions = bounds / np.max(bounds)  # Normalize dimensions to compare ratios\n"
     ]
    }
   ],
   "source": [
    "import numpy as np\n",
    "import pyvista as pv\n",
    "from sklearn.decomposition import PCA\n",
    "from sklearn.mixture import GaussianMixture\n",
    "from scipy.spatial import ConvexHull\n",
    "\n",
    "def load_and_display_obj(file_path):\n",
    "    # Read and visualize the 3D object\n",
    "    mesh = pv.read(file_path)\n",
    "    plotter = pv.Plotter()\n",
    "    plotter.add_mesh(mesh, color='white', show_edges=True)\n",
    "    plotter.show()\n",
    "    return mesh\n",
    "\n",
    "def reduce_dimensions(mesh, n_components=3):\n",
    "    # Reduce dimensions of the points in the mesh using PCA\n",
    "    points = mesh.points\n",
    "    pca = PCA(n_components=n_components)\n",
    "    reduced_points = pca.fit_transform(points)\n",
    "\n",
    "    # Visualize the reduced points\n",
    "    reduced_cloud = pv.PolyData(reduced_points)\n",
    "    plotter = pv.Plotter()\n",
    "    plotter.add_mesh(reduced_cloud, render_points_as_spheres=True, point_size=5)\n",
    "    plotter.show()\n",
    "\n",
    "    return reduced_points, pca\n",
    "\n",
    "def filter_convex_hull(points):\n",
    "    # Compute and filter points on the convex hull\n",
    "    hull = ConvexHull(points)\n",
    "    hull_points = points[hull.vertices]\n",
    "\n",
    "    # Visualize convex hull points\n",
    "    hull_cloud = pv.PolyData(hull_points)\n",
    "    plotter = pv.Plotter()\n",
    "    plotter.add_mesh(hull_cloud, color='blue', render_points_as_spheres=True, point_size=5)\n",
    "    plotter.show()\n",
    "\n",
    "    return hull_points\n",
    "\n",
    "def fit_mixture_of_gaussians(points, n_components=4):\n",
    "    # Apply Gaussian Mixture Model to fit and cluster points\n",
    "    gmm = GaussianMixture(n_components=n_components, random_state=42)\n",
    "    gmm.fit(points)\n",
    "    labels = gmm.predict(points)\n",
    "\n",
    "    # Visualize GMM clustering results\n",
    "    clustered_cloud = pv.PolyData(points)\n",
    "    clustered_cloud[\"Cluster\"] = labels\n",
    "    plotter = pv.Plotter()\n",
    "    plotter.add_mesh(clustered_cloud, render_points_as_spheres=True, point_size=5)\n",
    "    plotter.show()\n",
    "\n",
    "    return labels, gmm\n",
    "\n",
    "def detect_and_print_primitives(points, labels):\n",
    "    \"\"\"\n",
    "    Detect geometric primitives from clusters and print their shape.\n",
    "    \"\"\"\n",
    "    unique_labels = np.unique(labels)\n",
    "    detected_shapes = []\n",
    "\n",
    "    for label in unique_labels:\n",
    "        cluster_points = points[labels == label]\n",
    "\n",
    "        # Analyze cluster properties (example: bounding box dimensions)\n",
    "        bounds = np.ptp(cluster_points, axis=0)  # Peak-to-peak (range) along each axis\n",
    "        dimensions = bounds / np.max(bounds)  # Normalize dimensions to compare ratios\n",
    "\n",
    "        if np.allclose(dimensions, [19, 19, 19], atol=0.02):  # Close to cubic dimensions\n",
    "            shape = \"Sphere or Cube\"\n",
    "        elif dimensions[0] > dimensions[1] and dimensions[0] > dimensions[2]:\n",
    "            shape = \"Cylinder-like (elongated along X)\"\n",
    "        elif dimensions[1] > dimensions[0] and dimensions[1] > dimensions[2]:\n",
    "            shape = \"Cylinder-like (elongated along Y)\"\n",
    "        elif dimensions[2] > dimensions[0] and dimensions[2] > dimensions[1]:\n",
    "            shape = \"Cylinder-like (elongated along Z)\"\n",
    "        else:\n",
    "            shape = \"Irregular/Unknown\"\n",
    "\n",
    "        detected_shapes.append(shape)\n",
    "\n",
    "        print(f\"Cluster {label}: Detected Shape - {shape}\")\n",
    "\n",
    "    return detected_shapes\n",
    "\n",
    "def generate_grasp_plan(points, labels):\n",
    "    # Visualize grasp plans for detected primitives\n",
    "    cluster_centroids = []\n",
    "    unique_labels = np.unique(labels)\n",
    "\n",
    "    for label in unique_labels:\n",
    "        cluster_points = points[labels == label]\n",
    "        centroid = np.mean(cluster_points, axis=0)\n",
    "\n",
    "        # Ensure centroids are of float type for further processing\n",
    "        centroid = np.array(centroid, dtype=np.float64)  # Convert to float64 explicitly\n",
    "        cluster_centroids.append(centroid)\n",
    "\n",
    "        # Visualize each centroid\n",
    "        # sphere = pv.Sphere(center=centroid, radius=0.02)\n",
    "        # plotter = pv.Plotter()\n",
    "        # plotter.add_mesh(sphere, color=\"red\")\n",
    "        # plotter.show()\n",
    "\n",
    "    return cluster_centroids\n",
    "\n",
    "def main():\n",
    "    obj_file_path = \"../obj/cube.obj\"\n",
    "    \n",
    "    # Step 1: Load and visualize the 3D object\n",
    "    mesh = load_and_display_obj(obj_file_path)\n",
    "\n",
    "    # Step 2: Reduce dimensions\n",
    "    reduced_points, _ = reduce_dimensions(mesh)\n",
    "\n",
    "    # Step 3: Filter convex hull points\n",
    "    hull_points = filter_convex_hull(reduced_points)\n",
    "\n",
    "    # Step 4: Fit Gaussian Mixture Model and visualize clusters\n",
    "    labels, gmm = fit_mixture_of_gaussians(hull_points, n_components=4)\n",
    "\n",
    "    # Step 5: Detect and print primitive shapes\n",
    "    detected_shapes = detect_and_print_primitives(hull_points, labels)\n",
    "\n",
    "    # Step 6: Generate and visualize grasp plans\n",
    "    centroids = generate_grasp_plan(hull_points, labels)\n",
    "    for idx, centroid in enumerate(centroids):\n",
    "        print(f\"Grasp Plan {idx + 1}: Centroid at {centroid}\")\n",
    "\n",
    "if __name__ == \"__main__\":\n",
    "    main()"
   ]
  },
  {
   "cell_type": "code",
   "execution_count": null,
   "metadata": {},
   "outputs": [
    {
     "name": "stderr",
     "output_type": "stream",
     "text": [
      "\u001b[0m\u001b[33m2025-01-20 23:17:47.520 (2251.717s) [          176488]       vtkOBJReader.cxx:215   WARN| vtkOBJReader (0x3dc9f2ff0): unexpected data at end of line in OBJ file L.3\u001b[0m\n"
     ]
    },
    {
     "data": {
      "application/vnd.jupyter.widget-view+json": {
       "model_id": "2ff7a40c5cf442289228cf9931312597",
       "version_major": 2,
       "version_minor": 0
      },
      "text/plain": [
       "Widget(value='<iframe src=\"http://localhost:60531/index.html?ui=P_0x442b298e0_85&reconnect=auto\" class=\"pyvist…"
      ]
     },
     "metadata": {},
     "output_type": "display_data"
    },
    {
     "data": {
      "application/vnd.jupyter.widget-view+json": {
       "model_id": "03a86ed5e556439b8c0ca97e7549ebb8",
       "version_major": 2,
       "version_minor": 0
      },
      "text/plain": [
       "Widget(value='<iframe src=\"http://localhost:60531/index.html?ui=P_0x442216090_86&reconnect=auto\" class=\"pyvist…"
      ]
     },
     "metadata": {},
     "output_type": "display_data"
    },
    {
     "data": {
      "application/vnd.jupyter.widget-view+json": {
       "model_id": "fadc46ec05014d47be01c2598683e37b",
       "version_major": 2,
       "version_minor": 0
      },
      "text/plain": [
       "Widget(value='<iframe src=\"http://localhost:60531/index.html?ui=P_0x44222a300_87&reconnect=auto\" class=\"pyvist…"
      ]
     },
     "metadata": {},
     "output_type": "display_data"
    },
    {
     "data": {
      "application/vnd.jupyter.widget-view+json": {
       "model_id": "509ec404b8104c60b957322185ed21b3",
       "version_major": 2,
       "version_minor": 0
      },
      "text/plain": [
       "Widget(value='<iframe src=\"http://localhost:60531/index.html?ui=P_0x4422484d0_88&reconnect=auto\" class=\"pyvist…"
      ]
     },
     "metadata": {},
     "output_type": "display_data"
    },
    {
     "name": "stdout",
     "output_type": "stream",
     "text": [
      "Cluster 0: Detected Shape - Cylinder-like (elongated along X)\n",
      "Cluster 1: Detected Shape - Cylinder-like (elongated along Z)\n",
      "Cluster 2: Detected Shape - Cylinder-like (elongated along Y)\n",
      "Cluster 3: Detected Shape - Sphere or Cube\n",
      "Grasp Plan 1: Centroid at [ 0.08519437 -0.6971799  -0.16843825]\n",
      "Grasp Plan 2: Centroid at [-0.70062766  0.17371759 -0.04030424]\n",
      "Grasp Plan 3: Centroid at [0.2378867  0.1164757  0.67224966]\n",
      "Grasp Plan 4: Centroid at [ 0.37602128  0.40705684 -0.46329642]\n"
     ]
    }
   ],
   "source": [
    "import numpy as np\n",
    "import pyvista as pv\n",
    "from sklearn.decomposition import PCA\n",
    "from sklearn.mixture import GaussianMixture\n",
    "from scipy.spatial import ConvexHull\n",
    "\n",
    "def load_and_display_obj(file_path):\n",
    "    # Read and visualize the 3D object\n",
    "    mesh = pv.read(file_path)\n",
    "    plotter = pv.Plotter()\n",
    "    plotter.add_mesh(mesh, color='white', show_edges=True)\n",
    "    plotter.show()\n",
    "    return mesh\n",
    "\n",
    "def reduce_dimensions(mesh, n_components=3):\n",
    "    # Reduce dimensions of the points in the mesh using PCA\n",
    "    points = mesh.points\n",
    "    pca = PCA(n_components=n_components)\n",
    "    reduced_points = pca.fit_transform(points)\n",
    "\n",
    "    # Visualize the reduced points\n",
    "    reduced_cloud = pv.PolyData(reduced_points)\n",
    "    plotter = pv.Plotter()\n",
    "    plotter.add_mesh(reduced_cloud, render_points_as_spheres=True, point_size=5)\n",
    "    plotter.show()\n",
    "\n",
    "    return reduced_points, pca\n",
    "\n",
    "def filter_convex_hull(points):\n",
    "    # Compute and filter points on the convex hull\n",
    "    hull = ConvexHull(points)\n",
    "    hull_points = points[hull.vertices]\n",
    "\n",
    "    # Visualize convex hull points\n",
    "    hull_cloud = pv.PolyData(hull_points)\n",
    "    plotter = pv.Plotter()\n",
    "    plotter.add_mesh(hull_cloud, color='blue', render_points_as_spheres=True, point_size=5)\n",
    "    plotter.show()\n",
    "\n",
    "    return hull_points\n",
    "\n",
    "def fit_mixture_of_gaussians(points, n_components=2):\n",
    "    # Apply Gaussian Mixture Model to fit and cluster points\n",
    "    gmm = GaussianMixture(n_components=n_components, random_state=42)\n",
    "    gmm.fit(points)\n",
    "    labels = gmm.predict(points)\n",
    "\n",
    "    # Visualize GMM clustering results\n",
    "    clustered_cloud = pv.PolyData(points)\n",
    "    clustered_cloud[\"Cluster\"] = labels\n",
    "    plotter = pv.Plotter()\n",
    "    plotter.add_mesh(clustered_cloud, render_points_as_spheres=True, point_size=5)\n",
    "    plotter.show()\n",
    "\n",
    "    return labels, gmm\n",
    "\n",
    "def detect_and_print_primitives(points, labels):\n",
    "    \"\"\"\n",
    "    Detect geometric primitives from clusters and print their shape.\n",
    "    \"\"\"\n",
    "    unique_labels = np.unique(labels)\n",
    "    detected_shapes = []\n",
    "\n",
    "    for label in unique_labels:\n",
    "        cluster_points = points[labels == label]\n",
    "\n",
    "        # Analyze cluster properties (example: bounding box dimensions)\n",
    "        bounds = np.ptp(cluster_points, axis=0)  # Peak-to-peak (range) along each axis\n",
    "        dimensions = bounds / np.max(bounds)  # Normalize dimensions to compare ratios\n",
    "\n",
    "        if np.allclose(dimensions, [1, 1, 1], atol=0.2):  # Close to cubic dimensions\n",
    "            shape = \"Sphere or Cube\"\n",
    "        elif dimensions[0] > dimensions[1] and dimensions[0] > dimensions[2]:\n",
    "            shape = \"Cylinder-like (elongated along X)\"\n",
    "        elif dimensions[1] > dimensions[0] and dimensions[1] > dimensions[2]:\n",
    "            shape = \"Cylinder-like (elongated along Y)\"\n",
    "        elif dimensions[2] > dimensions[0] and dimensions[2] > dimensions[1]:\n",
    "            shape = \"Cylinder-like (elongated along Z)\"\n",
    "        else:\n",
    "            shape = \"Irregular/Unknown\"\n",
    "\n",
    "        detected_shapes.append(shape)\n",
    "\n",
    "        print(f\"Cluster {label}: Detected Shape - {shape}\")\n",
    "\n",
    "    return detected_shapes\n",
    "\n",
    "def generate_grasp_plan(points, labels):\n",
    "    # Visualize grasp plans for detected primitives\n",
    "    cluster_centroids = []\n",
    "    unique_labels = np.unique(labels)\n",
    "\n",
    "    for label in unique_labels:\n",
    "        cluster_points = points[labels == label]\n",
    "        centroid = np.mean(cluster_points, axis=0)\n",
    "\n",
    "        # Ensure centroids are of float type for further processing\n",
    "        centroid = np.array(centroid, dtype=np.float64)  # Convert to float64 explicitly\n",
    "        cluster_centroids.append(centroid)\n",
    "\n",
    "        # Visualize each centroid\n",
    "        # sphere = pv.Sphere(center=centroid, radius=0.02)\n",
    "        # plotter = pv.Plotter()\n",
    "        # plotter.add_mesh(sphere, color=\"red\")\n",
    "        # plotter.show()\n",
    "\n",
    "    return cluster_centroids\n",
    "\n",
    "def main():\n",
    "    obj_file_path = \"../obj/ball/Ball.obj\"\n",
    "\n",
    "    # Step 1: Load and visualize the 3D object\n",
    "    mesh = load_and_display_obj(obj_file_path)\n",
    "\n",
    "    # Step 2: Reduce dimensions\n",
    "    reduced_points, _ = reduce_dimensions(mesh)\n",
    "\n",
    "    # Step 3: Filter convex hull points\n",
    "    hull_points = filter_convex_hull(reduced_points)\n",
    "\n",
    "    # Step 4: Fit Gaussian Mixture Model and visualize clusters\n",
    "    labels, gmm = fit_mixture_of_gaussians(hull_points, n_components=4)\n",
    "\n",
    "    # Step 5: Detect and print primitive shapes\n",
    "    detected_shapes = detect_and_print_primitives(hull_points, labels)\n",
    "\n",
    "    # Step 6: Generate and visualize grasp plans\n",
    "    centroids = generate_grasp_plan(hull_points, labels)\n",
    "    for idx, centroid in enumerate(centroids):\n",
    "        print(f\"Grasp Plan {idx + 1}: Centroid at {centroid}\")\n",
    "\n",
    "if __name__ == \"__main__\":\n",
    "    main()"
   ]
  },
  {
   "cell_type": "code",
   "execution_count": null,
   "metadata": {},
   "outputs": [],
   "source": []
  }
 ],
 "metadata": {
  "kernelspec": {
   "display_name": "ml",
   "language": "python",
   "name": "python3"
  },
  "language_info": {
   "codemirror_mode": {
    "name": "ipython",
    "version": 3
   },
   "file_extension": ".py",
   "mimetype": "text/x-python",
   "name": "python",
   "nbconvert_exporter": "python",
   "pygments_lexer": "ipython3",
   "version": "3.12.8"
  }
 },
 "nbformat": 4,
 "nbformat_minor": 2
}
